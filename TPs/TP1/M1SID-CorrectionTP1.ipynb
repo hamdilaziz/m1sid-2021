{
 "cells": [
  {
   "cell_type": "code",
   "execution_count": null,
   "metadata": {},
   "outputs": [],
   "source": [
    "import masterjdv"
   ]
  },
  {
   "cell_type": "markdown",
   "metadata": {},
   "source": [
    "Estimation des temps de restitution pour 10 x 10 100 x 100 et 1000 x 1000"
   ]
  },
  {
   "cell_type": "code",
   "execution_count": null,
   "metadata": {},
   "outputs": [],
   "source": [
    "grid = masterjdv.init_grid(10)\n",
    "%timeit masterjdv.evolution1(grid)"
   ]
  },
  {
   "cell_type": "code",
   "execution_count": null,
   "metadata": {},
   "outputs": [],
   "source": [
    "grid = masterjdv.init_grid(100)\n",
    "%timeit masterjdv.evolution1(grid)"
   ]
  },
  {
   "cell_type": "code",
   "execution_count": null,
   "metadata": {},
   "outputs": [],
   "source": [
    "grid = masterjdv.init_grid(1000)\n",
    "%timeit masterjdv.evolution1(grid)"
   ]
  },
  {
   "cell_type": "markdown",
   "metadata": {},
   "source": [
    "On constate un temps d'exécution qui croit linéairement en fonction de la taille du problème (nombre de cellule  x100 à chaque fois) ce qui est cohérent avec notre algorithme qui applique un même calcul pour chaque cellule de la grille."
   ]
  },
  {
   "cell_type": "markdown",
   "metadata": {},
   "source": [
    "# Profilage"
   ]
  },
  {
   "cell_type": "markdown",
   "metadata": {},
   "source": [
    "Définition d'une grille 2000 x 2000"
   ]
  },
  {
   "cell_type": "code",
   "execution_count": null,
   "metadata": {},
   "outputs": [],
   "source": [
    "grid = masterjdv.init_grid(2000)"
   ]
  },
  {
   "cell_type": "markdown",
   "metadata": {},
   "source": [
    "Profil de evolution1"
   ]
  },
  {
   "cell_type": "code",
   "execution_count": null,
   "metadata": {},
   "outputs": [],
   "source": [
    "import cProfile\n",
    "#cProfile.run(\"masterjdv.evolution1(grid)\")\n",
    "%prun -D evol1.prof masterjdv.evolution1(grid)"
   ]
  },
  {
   "cell_type": "markdown",
   "metadata": {},
   "source": [
    "# Inlining\n",
    "Définition de la fonction evolution1_corr dans laquelle on intègre le calcul de nb_neigh (inlining)"
   ]
  },
  {
   "cell_type": "code",
   "execution_count": null,
   "metadata": {},
   "outputs": [],
   "source": [
    "def evolution1_corr(grid):\n",
    "    irange=grid.shape[0]\n",
    "    jrange=grid.shape[1]\n",
    "    res_grid=[[] for i in range(irange)]\n",
    "    for j in range(jrange):\n",
    "        for i in range(irange):\n",
    "            # by default cell_state is dead\n",
    "            cell_state=0\n",
    "            # loop over neighs to count living cells\n",
    "            biinf=max(0,i-1)\n",
    "            bisup=min(irange-1,i+1)\n",
    "            bjinf=max(0,j-1)\n",
    "            bjsup=min(jrange-1,j+1)\n",
    "            nb_neigh=0\n",
    "            # loop over neighs to count living cells\n",
    "            for ii in range(biinf,bisup+1):\n",
    "                for jj in range(bjinf,bjsup+1):\n",
    "                    if grid[ii][jj] == 1:\n",
    "                        nb_neigh=nb_neigh+1\n",
    "            # in my count I count current cell itself substract the value\n",
    "            nb_neigh=nb_neigh-grid[i][j]\n",
    "            # if 2 neighbors cell state isn't modified\n",
    "            if nb_neigh==2:\n",
    "                cell_state=grid[i][j]\n",
    "            # if 3 neighbors cell state is alive\n",
    "            elif nb_neigh==3:\n",
    "                cell_state=1\n",
    "            # in other case cell state is dead (default state)\n",
    "            res_grid[i].append(cell_state)\n",
    "    return res_grid"
   ]
  },
  {
   "cell_type": "markdown",
   "metadata": {},
   "source": [
    "Profil de evolution1_corr"
   ]
  },
  {
   "cell_type": "code",
   "execution_count": null,
   "metadata": {},
   "outputs": [],
   "source": [
    "cProfile.run(\"evolution1_corr(grid)\")"
   ]
  },
  {
   "cell_type": "markdown",
   "metadata": {},
   "source": [
    "## Résultats\n",
    "On constate une réduction du nombre d'appels de fonction :\n",
    "- 32000007 pour la 1ère version contre 20000005 pour la 2nde\n",
    "- en particulier 8000002 appel à la méthode len"
   ]
  },
  {
   "cell_type": "markdown",
   "metadata": {},
   "source": [
    "# Structures de données\n",
    "Importation du package numpy et définition de la fonction evolution1_ndarray dans laquelle on utilise des structures de données définies pour le traitement des tableaux : ndarray"
   ]
  },
  {
   "cell_type": "code",
   "execution_count": null,
   "metadata": {},
   "outputs": [],
   "source": [
    "import numpy as np"
   ]
  },
  {
   "cell_type": "code",
   "execution_count": null,
   "metadata": {},
   "outputs": [],
   "source": [
    "def evolution1_ndarray(grid):\n",
    "    irange=grid.shape[0]\n",
    "    jrange=grid.shape[1]\n",
    "    res_grid=np.zeros((irange,jrange))\n",
    "    for i in range(irange):\n",
    "        for j in range(jrange):\n",
    "            # by default cell_state is dead\n",
    "            cell_state=0\n",
    "            # loop over neighs to count living cells\n",
    "            biinf=max(0,i-1)\n",
    "            bisup=min(irange-1,i+1)\n",
    "            bjinf=max(0,j-1)\n",
    "            bjsup=min(jrange-1,j+1)\n",
    "            nb_neigh=0\n",
    "            # loop over neighs to count living cells\n",
    "            for ii in range(biinf,bisup+1):\n",
    "                for jj in range(bjinf,bjsup+1):\n",
    "                    if grid[ii][jj] == 1:\n",
    "                        nb_neigh=nb_neigh+1\n",
    "            # in my count I count current cell itself substract the value\n",
    "            nb_neigh=nb_neigh-grid[i][j]\n",
    "            # if 2 neighbors cell state isn't modified\n",
    "            if nb_neigh==2:\n",
    "                cell_state=grid[i][j]\n",
    "            # if 3 neighbors cell state is alive\n",
    "            elif nb_neigh==3:\n",
    "                cell_state=1\n",
    "            # in other case cell state is dead (default state)\n",
    "            res_grid[i,j]=cell_state\n",
    "    return res_grid"
   ]
  },
  {
   "cell_type": "markdown",
   "metadata": {},
   "source": [
    "Profil de evolution1_ndarray"
   ]
  },
  {
   "cell_type": "code",
   "execution_count": null,
   "metadata": {},
   "outputs": [],
   "source": [
    "cProfile.run(\"evolution1_ndarray(grid)\")"
   ]
  },
  {
   "cell_type": "markdown",
   "metadata": {},
   "source": [
    "Estimation des temps d'exécution pour chacune des trois fonctions"
   ]
  },
  {
   "cell_type": "code",
   "execution_count": null,
   "metadata": {},
   "outputs": [],
   "source": [
    "%timeit masterjdv.evolution1(grid)"
   ]
  },
  {
   "cell_type": "code",
   "execution_count": null,
   "metadata": {},
   "outputs": [],
   "source": [
    "%timeit evolution1_corr(grid)"
   ]
  },
  {
   "cell_type": "code",
   "execution_count": null,
   "metadata": {},
   "outputs": [],
   "source": [
    "%timeit evolution1_ndarray(grid)"
   ]
  }
 ],
 "metadata": {
  "kernelspec": {
   "display_name": "Python 3",
   "language": "python",
   "name": "python3"
  },
  "language_info": {
   "codemirror_mode": {
    "name": "ipython",
    "version": 3
   },
   "file_extension": ".py",
   "mimetype": "text/x-python",
   "name": "python",
   "nbconvert_exporter": "python",
   "pygments_lexer": "ipython3",
   "version": "3.6.12"
  }
 },
 "nbformat": 4,
 "nbformat_minor": 4
}
